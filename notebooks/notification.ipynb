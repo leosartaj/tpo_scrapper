{
 "cells": [
  {
   "cell_type": "code",
   "execution_count": 1,
   "metadata": {
    "collapsed": true
   },
   "outputs": [],
   "source": [
    "import numpy as np\n",
    "import pandas as pd\n",
    "\n",
    "from datetime import datetime"
   ]
  },
  {
   "cell_type": "code",
   "execution_count": 2,
   "metadata": {
    "collapsed": true
   },
   "outputs": [],
   "source": [
    "def read_df(fname):\n",
    "    df = pd.read_csv('companies.csv', parse_dates=['branch_issue_deadline', 'exam_date', 'interview_date', 'ppt_date', 'updated_at', 'willingness_deadline'])\n",
    "    return df"
   ]
  },
  {
   "cell_type": "code",
   "execution_count": 3,
   "metadata": {
    "collapsed": true
   },
   "outputs": [],
   "source": [
    "def query_dept_dates(df, dept, date_col, min_date=None):\n",
    "    if min_date is None:\n",
    "        min_date = datetime.now()\n",
    "    return df[(df[dept] == 1) & (df[date_col] > min_date)].copy()"
   ]
  },
  {
   "cell_type": "code",
   "execution_count": 4,
   "metadata": {
    "collapsed": true
   },
   "outputs": [],
   "source": [
    "def create_notification_df(df, dept, date_col, min_date=None, suffix=None):\n",
    "    notification_df = query_dept_dates(df, dept, date_col, min_date)\n",
    "    \n",
    "    if suffix is None:\n",
    "        suffix = date_col\n",
    "    notification_df.loc[:, 'email_msg_{}'.format(suffix)] = create_emails(notification_df)\n",
    "    notification_df.loc[:, 'email_count_{}'.format(suffix)] = 0\n",
    "    return notification_df.reset_index(drop=True)"
   ]
  },
  {
   "cell_type": "code",
   "execution_count": 5,
   "metadata": {
    "collapsed": true
   },
   "outputs": [],
   "source": [
    "def email(x):\n",
    "    company = x['company_name']\n",
    "    package_ctc = x['idd_imd_ctc'] / 10**5\n",
    "    package_home = x['idd_imd_home'] / 10**5\n",
    "    willingness = x['willingness_deadline']\n",
    "    msg = ('Willingness for {} is open till {}. '\n",
    "           'The Company is offering a CTC of {:.2f} Lakhs and Take Home of {:.2f} Lakhs'\n",
    "           .format(company, willingness, package_ctc, package_home))\n",
    "    return msg"
   ]
  },
  {
   "cell_type": "code",
   "execution_count": 6,
   "metadata": {
    "collapsed": true
   },
   "outputs": [],
   "source": [
    "def create_emails(df):\n",
    "    return df.apply(email, axis=1)"
   ]
  },
  {
   "cell_type": "code",
   "execution_count": 13,
   "metadata": {},
   "outputs": [
    {
     "data": {
      "text/html": [
       "<div>\n",
       "<style>\n",
       "    .dataframe thead tr:only-child th {\n",
       "        text-align: right;\n",
       "    }\n",
       "\n",
       "    .dataframe thead th {\n",
       "        text-align: left;\n",
       "    }\n",
       "\n",
       "    .dataframe tbody tr th {\n",
       "        vertical-align: top;\n",
       "    }\n",
       "</style>\n",
       "<table border=\"1\" class=\"dataframe\">\n",
       "  <thead>\n",
       "    <tr style=\"text-align: right;\">\n",
       "      <th></th>\n",
       "      <th>company_name</th>\n",
       "      <th>email_msg_willingness</th>\n",
       "    </tr>\n",
       "  </thead>\n",
       "  <tbody>\n",
       "    <tr>\n",
       "      <th>0</th>\n",
       "      <td>AXTRIA</td>\n",
       "      <td>Willingness for AXTRIA is open till 2017-09-27...</td>\n",
       "    </tr>\n",
       "    <tr>\n",
       "      <th>1</th>\n",
       "      <td>Media.net</td>\n",
       "      <td>Willingness for Media.net is open till 2017-09...</td>\n",
       "    </tr>\n",
       "    <tr>\n",
       "      <th>2</th>\n",
       "      <td>Flock</td>\n",
       "      <td>Willingness for Flock is open till 2017-09-27 ...</td>\n",
       "    </tr>\n",
       "    <tr>\n",
       "      <th>3</th>\n",
       "      <td>WIPRO</td>\n",
       "      <td>Willingness for WIPRO is open till 2017-09-27 ...</td>\n",
       "    </tr>\n",
       "  </tbody>\n",
       "</table>\n",
       "</div>"
      ],
      "text/plain": [
       "  company_name                              email_msg_willingness\n",
       "0       AXTRIA  Willingness for AXTRIA is open till 2017-09-27...\n",
       "1    Media.net  Willingness for Media.net is open till 2017-09...\n",
       "2        Flock  Willingness for Flock is open till 2017-09-27 ...\n",
       "3        WIPRO  Willingness for WIPRO is open till 2017-09-27 ..."
      ]
     },
     "execution_count": 13,
     "metadata": {},
     "output_type": "execute_result"
    }
   ],
   "source": [
    "df = read_df('companies.csv')\n",
    "willingness_df = create_notification_df(df, 'mat', 'willingness_deadline', suffix='willingness')\n",
    "willingness_df.loc[:, ['company_name', 'email_msg_willingness']]"
   ]
  },
  {
   "cell_type": "code",
   "execution_count": 24,
   "metadata": {},
   "outputs": [
    {
     "data": {
      "text/plain": [
       "0       AXTRIA willingness deadline\n",
       "1    Media.net willingness deadline\n",
       "2        Flock willingness deadline\n",
       "3        WIPRO willingness deadline\n",
       "dtype: object"
      ]
     },
     "execution_count": 24,
     "metadata": {},
     "output_type": "execute_result"
    }
   ],
   "source": [
    "willingness_df.apply(lambda x: '{} willingness deadline'.format(x['company_name']), axis=1)"
   ]
  },
  {
   "cell_type": "code",
   "execution_count": 26,
   "metadata": {},
   "outputs": [
    {
     "data": {
      "text/plain": [
       "[(1, 1), (2, 2), (3, 3), (4, 4)]"
      ]
     },
     "execution_count": 26,
     "metadata": {},
     "output_type": "execute_result"
    }
   ],
   "source": [
    "list(zip(pd.Series([1, 2, 3, 4]), pd.Series([1, 2, 3, 4])))"
   ]
  },
  {
   "cell_type": "code",
   "execution_count": 8,
   "metadata": {},
   "outputs": [
    {
     "data": {
      "text/html": [
       "<div>\n",
       "<style>\n",
       "    .dataframe thead tr:only-child th {\n",
       "        text-align: right;\n",
       "    }\n",
       "\n",
       "    .dataframe thead th {\n",
       "        text-align: left;\n",
       "    }\n",
       "\n",
       "    .dataframe tbody tr th {\n",
       "        vertical-align: top;\n",
       "    }\n",
       "</style>\n",
       "<table border=\"1\" class=\"dataframe\">\n",
       "  <thead>\n",
       "    <tr style=\"text-align: right;\">\n",
       "      <th></th>\n",
       "      <th>active_backlog</th>\n",
       "      <th>branch_issue_deadline</th>\n",
       "      <th>btech_ctc</th>\n",
       "      <th>btech_home</th>\n",
       "      <th>cgpa</th>\n",
       "      <th>company_name</th>\n",
       "      <th>exam_date</th>\n",
       "      <th>idd_imd_ctc</th>\n",
       "      <th>idd_imd_home</th>\n",
       "      <th>interview_date</th>\n",
       "      <th>...</th>\n",
       "      <th>bce</th>\n",
       "      <th>chy</th>\n",
       "      <th>phy</th>\n",
       "      <th>bme</th>\n",
       "      <th>btech</th>\n",
       "      <th>idd</th>\n",
       "      <th>mtech</th>\n",
       "      <th>phd</th>\n",
       "      <th>email_msg_willingness</th>\n",
       "      <th>email_count_willingness</th>\n",
       "    </tr>\n",
       "  </thead>\n",
       "  <tbody>\n",
       "    <tr>\n",
       "      <th>0</th>\n",
       "      <td>0.0</td>\n",
       "      <td>2017-09-01 11:00:00</td>\n",
       "      <td>NaN</td>\n",
       "      <td>NaN</td>\n",
       "      <td>6.0</td>\n",
       "      <td>AXTRIA</td>\n",
       "      <td>NaN</td>\n",
       "      <td>780000.0</td>\n",
       "      <td>NaN</td>\n",
       "      <td>NaN</td>\n",
       "      <td>...</td>\n",
       "      <td>1</td>\n",
       "      <td>1</td>\n",
       "      <td>1</td>\n",
       "      <td>1</td>\n",
       "      <td>0</td>\n",
       "      <td>1</td>\n",
       "      <td>1</td>\n",
       "      <td>0</td>\n",
       "      <td>Willingness for AXTRIA is open till 2017-09-27...</td>\n",
       "      <td>0</td>\n",
       "    </tr>\n",
       "    <tr>\n",
       "      <th>1</th>\n",
       "      <td>0.0</td>\n",
       "      <td>2017-07-11 23:00:00</td>\n",
       "      <td>2500000.0</td>\n",
       "      <td>1500000.0</td>\n",
       "      <td>0.0</td>\n",
       "      <td>Media.net</td>\n",
       "      <td>2017-10-08 00:00:00</td>\n",
       "      <td>2500000.0</td>\n",
       "      <td>1500000.0</td>\n",
       "      <td>NaN</td>\n",
       "      <td>...</td>\n",
       "      <td>1</td>\n",
       "      <td>1</td>\n",
       "      <td>1</td>\n",
       "      <td>1</td>\n",
       "      <td>1</td>\n",
       "      <td>1</td>\n",
       "      <td>1</td>\n",
       "      <td>0</td>\n",
       "      <td>Willingness for Media.net is open till 2017-09...</td>\n",
       "      <td>0</td>\n",
       "    </tr>\n",
       "    <tr>\n",
       "      <th>2</th>\n",
       "      <td>0.0</td>\n",
       "      <td>2017-07-11 23:00:00</td>\n",
       "      <td>2500000.0</td>\n",
       "      <td>1500000.0</td>\n",
       "      <td>0.0</td>\n",
       "      <td>Flock</td>\n",
       "      <td>2017-10-08 00:00:00</td>\n",
       "      <td>2500000.0</td>\n",
       "      <td>1500000.0</td>\n",
       "      <td>NaN</td>\n",
       "      <td>...</td>\n",
       "      <td>1</td>\n",
       "      <td>1</td>\n",
       "      <td>1</td>\n",
       "      <td>1</td>\n",
       "      <td>1</td>\n",
       "      <td>1</td>\n",
       "      <td>1</td>\n",
       "      <td>0</td>\n",
       "      <td>Willingness for Flock is open till 2017-09-27 ...</td>\n",
       "      <td>0</td>\n",
       "    </tr>\n",
       "    <tr>\n",
       "      <th>3</th>\n",
       "      <td>0.0</td>\n",
       "      <td>2017-08-09 13:00:00</td>\n",
       "      <td>900000.0</td>\n",
       "      <td>NaN</td>\n",
       "      <td>7.0</td>\n",
       "      <td>WIPRO</td>\n",
       "      <td>NaN</td>\n",
       "      <td>900000.0</td>\n",
       "      <td>NaN</td>\n",
       "      <td>NaN</td>\n",
       "      <td>...</td>\n",
       "      <td>1</td>\n",
       "      <td>1</td>\n",
       "      <td>1</td>\n",
       "      <td>1</td>\n",
       "      <td>1</td>\n",
       "      <td>1</td>\n",
       "      <td>0</td>\n",
       "      <td>0</td>\n",
       "      <td>Willingness for WIPRO is open till 2017-09-27 ...</td>\n",
       "      <td>0</td>\n",
       "    </tr>\n",
       "  </tbody>\n",
       "</table>\n",
       "<p>4 rows × 46 columns</p>\n",
       "</div>"
      ],
      "text/plain": [
       "   active_backlog branch_issue_deadline  btech_ctc  btech_home  cgpa  \\\n",
       "0             0.0   2017-09-01 11:00:00        NaN         NaN   6.0   \n",
       "1             0.0   2017-07-11 23:00:00  2500000.0   1500000.0   0.0   \n",
       "2             0.0   2017-07-11 23:00:00  2500000.0   1500000.0   0.0   \n",
       "3             0.0   2017-08-09 13:00:00   900000.0         NaN   7.0   \n",
       "\n",
       "  company_name            exam_date  idd_imd_ctc  idd_imd_home  \\\n",
       "0       AXTRIA                  NaN     780000.0           NaN   \n",
       "1    Media.net  2017-10-08 00:00:00    2500000.0     1500000.0   \n",
       "2        Flock  2017-10-08 00:00:00    2500000.0     1500000.0   \n",
       "3        WIPRO                  NaN     900000.0           NaN   \n",
       "\n",
       "   interview_date           ...            bce  chy  phy  bme btech idd mtech  \\\n",
       "0             NaN           ...              1    1    1    1     0   1     1   \n",
       "1             NaN           ...              1    1    1    1     1   1     1   \n",
       "2             NaN           ...              1    1    1    1     1   1     1   \n",
       "3             NaN           ...              1    1    1    1     1   1     0   \n",
       "\n",
       "   phd                              email_msg_willingness  \\\n",
       "0    0  Willingness for AXTRIA is open till 2017-09-27...   \n",
       "1    0  Willingness for Media.net is open till 2017-09...   \n",
       "2    0  Willingness for Flock is open till 2017-09-27 ...   \n",
       "3    0  Willingness for WIPRO is open till 2017-09-27 ...   \n",
       "\n",
       "  email_count_willingness  \n",
       "0                       0  \n",
       "1                       0  \n",
       "2                       0  \n",
       "3                       0  \n",
       "\n",
       "[4 rows x 46 columns]"
      ]
     },
     "execution_count": 8,
     "metadata": {},
     "output_type": "execute_result"
    }
   ],
   "source": [
    "willingness_df.to_csv('willingness.csv', index=False)\n",
    "pd.read_csv('willingness.csv')"
   ]
  }
 ],
 "metadata": {
  "kernelspec": {
   "display_name": "Python 3",
   "language": "python",
   "name": "python3"
  },
  "language_info": {
   "codemirror_mode": {
    "name": "ipython",
    "version": 3
   },
   "file_extension": ".py",
   "mimetype": "text/x-python",
   "name": "python",
   "nbconvert_exporter": "python",
   "pygments_lexer": "ipython3",
   "version": "3.6.2"
  }
 },
 "nbformat": 4,
 "nbformat_minor": 2
}
