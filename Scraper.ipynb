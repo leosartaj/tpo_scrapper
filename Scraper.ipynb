{
 "cells": [
  {
   "cell_type": "code",
   "execution_count": 1,
   "metadata": {
    "collapsed": true
   },
   "outputs": [],
   "source": [
    "import requests\n",
    "import lxml.html\n",
    "import bs4\n",
    "\n",
    "import numpy as np\n",
    "import pandas as pd"
   ]
  },
  {
   "cell_type": "code",
   "execution_count": 2,
   "metadata": {
    "collapsed": true
   },
   "outputs": [],
   "source": [
    "USER_AGENT = 'Mozilla/5.0 (Macintosh; Intel Mac OS X 10_12_5) AppleWebKit/537.36 (KHTML, like Gecko) Chrome/60.0.3112.113 Safari/537.36'\n",
    "LOGIN_URL = 'https://www.placement.iitbhu.ac.in/accounts/login'\n",
    "COMPANY_URL = 'https://www.placement.iitbhu.ac.in/company/calendar'\n",
    "USERNAME = 'sartaj.singh.apm13@itbhu.ac.in'\n",
    "PASSWORD = 'Superkid@123'"
   ]
  },
  {
   "cell_type": "code",
   "execution_count": 3,
   "metadata": {
    "collapsed": true
   },
   "outputs": [],
   "source": [
    "def make_login_form(session, username, password):\n",
    "    login = session.get(LOGIN_URL)\n",
    "    login_html = lxml.html.fromstring(login.text)\n",
    "    hidden_inputs = login_html.xpath(r'//form//input[@type=\"hidden\"]')\n",
    "    form = {x.attrib['name']: x.attrib['value'] for x in hidden_inputs}\n",
    "    form['login'] = username\n",
    "    form['password'] = password\n",
    "    return form"
   ]
  },
  {
   "cell_type": "code",
   "execution_count": 4,
   "metadata": {
    "collapsed": true
   },
   "outputs": [],
   "source": [
    "session = requests.session()"
   ]
  },
  {
   "cell_type": "code",
   "execution_count": 5,
   "metadata": {},
   "outputs": [
    {
     "data": {
      "text/plain": [
       "{'csrfmiddlewaretoken': '5HYQ3od5urJ0nSuA0iEZP8lNRoCuYJRI',\n",
       " 'login': 'sartaj.singh.apm13@itbhu.ac.in',\n",
       " 'password': 'Superkid@123'}"
      ]
     },
     "execution_count": 5,
     "metadata": {},
     "output_type": "execute_result"
    }
   ],
   "source": [
    "form = make_login_form(session, USERNAME, PASSWORD)\n",
    "form"
   ]
  },
  {
   "cell_type": "code",
   "execution_count": 6,
   "metadata": {},
   "outputs": [
    {
     "data": {
      "text/plain": [
       "<Response [200]>"
      ]
     },
     "execution_count": 6,
     "metadata": {},
     "output_type": "execute_result"
    }
   ],
   "source": [
    "params = {'Referer': LOGIN_URL, 'User-Agent': USER_AGENT}\n",
    "login = session.post(LOGIN_URL, data=form, headers=params)\n",
    "login"
   ]
  },
  {
   "cell_type": "code",
   "execution_count": 7,
   "metadata": {},
   "outputs": [
    {
     "data": {
      "text/plain": [
       "<Response [200]>"
      ]
     },
     "execution_count": 7,
     "metadata": {},
     "output_type": "execute_result"
    }
   ],
   "source": [
    "params = {'page_size': 250}\n",
    "data = session.get(COMPANY_URL, params=params)\n",
    "data"
   ]
  },
  {
   "cell_type": "code",
   "execution_count": 8,
   "metadata": {
    "collapsed": true
   },
   "outputs": [],
   "source": [
    "company_data = bs4.BeautifulSoup(data.text, 'html.parser')"
   ]
  },
  {
   "cell_type": "code",
   "execution_count": 9,
   "metadata": {
    "collapsed": true
   },
   "outputs": [],
   "source": [
    "data_mapper = {\n",
    "    'updated_at': 'updated_at',\n",
    "    'company_name': 'company_name',\n",
    "    'profile': 'company_profile',\n",
    "    'purpose': 'purpose',\n",
    "    'x_percent': 'x',\n",
    "    'xii_percent': 'xii',\n",
    "    'cgpa': 'cgpa',\n",
    "    'course': 'course',\n",
    "    'dept': 'dept',\n",
    "    'active_backlog': 'a_backlog',\n",
    "    'total_backlog': 't_backlog',\n",
    "    'ppt_date': 'ppt_date',\n",
    "    'exam_date': 'exam_date',\n",
    "    'interview_date': 'interview_date',\n",
    "    'status': 'status',\n",
    "    'branch_issue_deadline': 'branch_issue_dead',\n",
    "    'willingness_deadline': 'willingness_dead',\n",
    "}"
   ]
  },
  {
   "cell_type": "code",
   "execution_count": 10,
   "metadata": {
    "collapsed": true
   },
   "outputs": [],
   "source": [
    "clips = {\n",
    "    'active_backlog': 'Active backlog allowed :'.find(':'),\n",
    "    'active_backlog2': 'Active backlog allowed :'.find(':') ,\n",
    "    'active_backlog3': 'Active backlog allowed :'.find(':') ,\n",
    "    'branch_issue_deadline': 'Branch Issues Deadline :'.find(':') + 1,\n",
    "    'cgpa': 'cgpa :'.find(':'),\n",
    "    'cgpa1': 'cgpa :'.find(':'),\n",
    "    'cgpa2': 'cgpa :'.find(':'),\n",
    "    'course': 'Course(s) :'.find(':'),\n",
    "    'course1': 'Course(s) :'.find(':'),\n",
    "    'course2': 'Course(s) :'.find(':'),\n",
    "    'dept': 'Department(s) :'.find(':'),\n",
    "    'dept1': 'Department(s) :'.find(':'),\n",
    "    'dept2': 'Department(s) :'.find(':'),\n",
    "    'exam_date': 'Exam Date :'.find(':'),\n",
    "    'interview_date': 'Interview Date :'.find(':') ,\n",
    "    'ppt_date': 'PPT Date : '.find(':'),\n",
    "    'status': 'Status : '.find(':'),\n",
    "    'total_backlog': 'Total backlog allowed :'.find(':'),  \n",
    "    'updated_at': 'st Updated:'.find(':') + 2,\n",
    "    'willingness_deadline': 'Willingness Deadline :'.find(':') + 1,\n",
    "    'x_percent': 'X :'.find(':'),\n",
    "    'x_percent1': 'X :'.find(':'),\n",
    "    'x_percent2': 'X :'.find(':'),\n",
    "    'xii_percent': 'XII :'.find(':'),\n",
    "    'xii_percent1': 'XII :'.find(':'),\n",
    "    'xii_percent2': 'XII :'.find(':')\n",
    "}"
   ]
  },
  {
   "cell_type": "code",
   "execution_count": 11,
   "metadata": {},
   "outputs": [],
   "source": [
    "def get_package_data(company_div, company):\n",
    "    package = company_div.find('div', attrs={'class': 'package'})\n",
    "    for tr in package.find_all('tr'):\n",
    "        course, num = False, 0\n",
    "        course_name = None\n",
    "        for td in tr.find_all('td'):\n",
    "            if course:\n",
    "                if num == 0 and td.text:\n",
    "                    company['{}_ctc'.format(course_name)] = td.text\n",
    "                if num == 1 and td.text:\n",
    "                    company['{}_home'.format(course_name)] = td.text\n",
    "                if num == 1:\n",
    "                    course = False\n",
    "                num += 1\n",
    "            if td.text.lower() in ['b.tech', 'idd/imd', 'm.tech', 'phd']:\n",
    "                course, num = True, 0\n",
    "                course_name = td.text.lower().replace('/', '_').replace('.', '')"
   ]
  },
  {
   "cell_type": "code",
   "execution_count": 12,
   "metadata": {},
   "outputs": [],
   "source": [
    "def generate_names(name):\n",
    "    i = 0\n",
    "    while True:\n",
    "        if i:\n",
    "            yield '{}{}'.format(name, i)\n",
    "        else:\n",
    "            yield name\n",
    "        i += 1"
   ]
  },
  {
   "cell_type": "code",
   "execution_count": 13,
   "metadata": {},
   "outputs": [],
   "source": [
    "def get_data(data_mapper):\n",
    "    companies = []\n",
    "    for company_div in company_data.find_all('div', attrs={'class': 'row company'}):\n",
    "        company = {}\n",
    "        for name, class_name in data_mapper.items():\n",
    "            names = generate_names(name)\n",
    "            for name, tag in zip(names, company_div.find_all(attrs={'class': class_name})):\n",
    "                company[name] = tag.text\n",
    "        get_package_data(company_div, company)\n",
    "        companies.append(company)\n",
    "    return companies"
   ]
  },
  {
   "cell_type": "code",
   "execution_count": 14,
   "metadata": {
    "collapsed": true
   },
   "outputs": [],
   "source": [
    "def clip_data(companies, clips):\n",
    "    for company in companies:\n",
    "        for clip_name, clip_num in clips.items():\n",
    "            num = clip_num + 2\n",
    "            if clip_name in company.keys():\n",
    "                company[clip_name] = company[clip_name][num:]\n",
    "    return companies"
   ]
  },
  {
   "cell_type": "code",
   "execution_count": 15,
   "metadata": {
    "collapsed": true
   },
   "outputs": [],
   "source": [
    "def find_depts(df):\n",
    "    depts = set([])\n",
    "    for value in df.dept.unique():\n",
    "        for dept in value.split(' '):\n",
    "            depts.add(dept)\n",
    "    return depts"
   ]
  },
  {
   "cell_type": "code",
   "execution_count": 16,
   "metadata": {
    "collapsed": true
   },
   "outputs": [],
   "source": [
    "def _average(values):\n",
    "    ans, num = 0, 0\n",
    "    for val in values:\n",
    "        try:\n",
    "            ans += float(val)\n",
    "            num += 1\n",
    "        except ValueError:\n",
    "            continue\n",
    "    if num:\n",
    "        return ans / num"
   ]
  },
  {
   "cell_type": "code",
   "execution_count": 17,
   "metadata": {
    "collapsed": true
   },
   "outputs": [],
   "source": [
    "def package_value(value):\n",
    "    if not isinstance(value, float):\n",
    "        ans = _average(value.split(' '))\n",
    "        if ans:\n",
    "            if ans < 100:\n",
    "                ans *= 10**5\n",
    "            return ans\n",
    "        \n",
    "    return value"
   ]
  },
  {
   "cell_type": "code",
   "execution_count": 18,
   "metadata": {
    "collapsed": true
   },
   "outputs": [],
   "source": [
    "def package_value_series(packages):\n",
    "    return packages.apply(package_value)"
   ]
  },
  {
   "cell_type": "code",
   "execution_count": 19,
   "metadata": {
    "collapsed": true
   },
   "outputs": [],
   "source": [
    "def process_packages(df):\n",
    "    packages = []\n",
    "    courses = ['btech', 'idd_imd', 'mtech', 'phd']\n",
    "    packages.extend(map(lambda x: '{}_ctc'.format(x), courses))\n",
    "    packages.extend(map(lambda x: '{}_home'.format(x), courses))\n",
    "\n",
    "    df.loc[:, packages] = df[packages].replace('Yet to Decide', np.nan)\n",
    "    df.loc[:, packages] = df[packages].replace('[lL]akhs', '', regex=True)\n",
    "    df.loc[:, packages] = df[packages].replace('LPA', '', regex=True)\n",
    "    df.loc[:, packages] = df[packages].replace('\\+ plus other benefits', '', regex=True)\n",
    "    df.loc[:, packages] = df[packages].replace(',', '', regex=True)\n",
    "    df.loc[:, packages] = df[packages].replace('[-/]', ' ', regex=True)\n",
    "    df.loc[:, packages] = df[packages].replace('Depending on experience', np.nan, regex=True)\n",
    "    df.loc[:, packages] = df[packages].replace('Inclusive of 20% variable pay', np.nan)\n",
    "    \n",
    "    df.loc[:, packages] = df[packages].apply(package_value_series)\n",
    "    df.loc[df.company_name == 'VMWare', ['idd_imd_ctc', 'btech_ctc']] = [2202108, 2202108]\n",
    "    df.loc[:, packages] = df[packages].astype(np.float64)\n",
    "          \n",
    "    return df"
   ]
  },
  {
   "cell_type": "code",
   "execution_count": 20,
   "metadata": {},
   "outputs": [],
   "source": [
    "def process_df(companies):\n",
    "    df = pd.DataFrame(companies)\n",
    "    \n",
    "    df.loc[:, 'active_backlog'] = df['active_backlog'].replace({'N/A': 0}).astype(np.float64)\n",
    "    df.loc[:, 'total_backlog'] = df['total_backlog'].replace({'N/A': 0}).astype(np.float64)\n",
    "    \n",
    "    df.loc[:, 'cgpa'] = df[['cgpa', 'cgpa1', 'cgpa2']].astype(np.float64).mean(axis=1)\n",
    "    df.loc[:, 'exam_date'] = pd.to_datetime(df['exam_date'])\n",
    "    df.loc[:, 'interview_date'] = pd.to_datetime(df['interview_date'])\n",
    "    df.loc[:, 'ppt_date'] = pd.to_datetime(df['ppt_date'])\n",
    "    df.loc[:, 'branch_issue_deadline'] = pd.to_datetime(df['branch_issue_deadline'].str.replace('|', ','))\n",
    "    df.loc[:, 'updated_at'] = pd.to_datetime(df['updated_at'])\n",
    "    df.loc[:, 'x_percent'] = df[['x_percent', 'x_percent1', 'x_percent2']].apply(lambda x: x.str[:-1]).astype(np.float64).mean(axis=1)\n",
    "    df.loc[:, 'xii_percent'] = df[['xii_percent', 'xii_percent1', 'xii_percent2']].apply(lambda x: x.str[:-1]).astype(np.float64).mean(axis=1)\n",
    "    df.loc[:, 'profile'] = df['profile'].replace({'': np.nan})\n",
    "    df.loc[:, 'willingness_deadline'] = pd.to_datetime(df['willingness_deadline'].str.replace('|', ','))\n",
    "    \n",
    "    df.loc[:, 'dept'] = df['dept1'].fillna('') + ' ' + df['dept2'].fillna('') + df['dept'].fillna('')\n",
    "    for dept in find_depts(df):\n",
    "        df.loc[:, dept] = df.dept.apply(lambda x: 1 if dept in x else 0)\n",
    "    \n",
    "    df.loc[:, 'course'] = df[['course', 'course1', 'course2']].fillna('').sum(axis=1)\n",
    "    for course in ['btech', 'idd', 'mtech', 'phd']:\n",
    "        df.loc[:, course] = df.course.apply(lambda x: 1 if course in x else 0)\n",
    "    \n",
    "    df = process_packages(df)\n",
    "    df = df.drop(['course', 'purpose', 'active_backlog1', 'active_backlog2',\n",
    "                 'total_backlog1', 'total_backlog2', 'cgpa1', 'cgpa2',\n",
    "                 'course1', 'course2', 'dept', 'dept1', 'dept2',\n",
    "                 'x_percent1', 'x_percent2', 'xii_percent1', 'xii_percent2'], axis=1)\n",
    "    \n",
    "    return df"
   ]
  },
  {
   "cell_type": "code",
   "execution_count": 21,
   "metadata": {
    "scrolled": false
   },
   "outputs": [
    {
     "data": {
      "text/html": [
       "<div>\n",
       "<style>\n",
       "    .dataframe thead tr:only-child th {\n",
       "        text-align: right;\n",
       "    }\n",
       "\n",
       "    .dataframe thead th {\n",
       "        text-align: left;\n",
       "    }\n",
       "\n",
       "    .dataframe tbody tr th {\n",
       "        vertical-align: top;\n",
       "    }\n",
       "</style>\n",
       "<table border=\"1\" class=\"dataframe\">\n",
       "  <thead>\n",
       "    <tr style=\"text-align: right;\">\n",
       "      <th></th>\n",
       "      <th>active_backlog</th>\n",
       "      <th>branch_issue_deadline</th>\n",
       "      <th>btech_ctc</th>\n",
       "      <th>btech_home</th>\n",
       "      <th>cgpa</th>\n",
       "      <th>company_name</th>\n",
       "      <th>exam_date</th>\n",
       "      <th>idd_imd_ctc</th>\n",
       "      <th>idd_imd_home</th>\n",
       "      <th>interview_date</th>\n",
       "      <th>...</th>\n",
       "      <th>civ</th>\n",
       "      <th>bme</th>\n",
       "      <th>cse</th>\n",
       "      <th>ece</th>\n",
       "      <th>mst</th>\n",
       "      <th>phe</th>\n",
       "      <th>btech</th>\n",
       "      <th>idd</th>\n",
       "      <th>mtech</th>\n",
       "      <th>phd</th>\n",
       "    </tr>\n",
       "  </thead>\n",
       "  <tbody>\n",
       "    <tr>\n",
       "      <th>0</th>\n",
       "      <td>0.0</td>\n",
       "      <td>2017-09-22 10:00:00</td>\n",
       "      <td>700000.0</td>\n",
       "      <td>NaN</td>\n",
       "      <td>6.0</td>\n",
       "      <td>Honeywell</td>\n",
       "      <td>NaT</td>\n",
       "      <td>NaN</td>\n",
       "      <td>NaN</td>\n",
       "      <td>NaT</td>\n",
       "      <td>...</td>\n",
       "      <td>0</td>\n",
       "      <td>0</td>\n",
       "      <td>0</td>\n",
       "      <td>1</td>\n",
       "      <td>0</td>\n",
       "      <td>0</td>\n",
       "      <td>1</td>\n",
       "      <td>0</td>\n",
       "      <td>1</td>\n",
       "      <td>0</td>\n",
       "    </tr>\n",
       "    <tr>\n",
       "      <th>1</th>\n",
       "      <td>0.0</td>\n",
       "      <td>2017-09-22 10:00:00</td>\n",
       "      <td>845000.0</td>\n",
       "      <td>NaN</td>\n",
       "      <td>7.0</td>\n",
       "      <td>SCA Tech</td>\n",
       "      <td>NaT</td>\n",
       "      <td>845000.0</td>\n",
       "      <td>NaN</td>\n",
       "      <td>NaT</td>\n",
       "      <td>...</td>\n",
       "      <td>1</td>\n",
       "      <td>0</td>\n",
       "      <td>1</td>\n",
       "      <td>1</td>\n",
       "      <td>1</td>\n",
       "      <td>0</td>\n",
       "      <td>1</td>\n",
       "      <td>1</td>\n",
       "      <td>1</td>\n",
       "      <td>0</td>\n",
       "    </tr>\n",
       "    <tr>\n",
       "      <th>2</th>\n",
       "      <td>0.0</td>\n",
       "      <td>2017-09-22 10:00:00</td>\n",
       "      <td>NaN</td>\n",
       "      <td>NaN</td>\n",
       "      <td>0.0</td>\n",
       "      <td>Evalueserve</td>\n",
       "      <td>NaT</td>\n",
       "      <td>NaN</td>\n",
       "      <td>NaN</td>\n",
       "      <td>NaT</td>\n",
       "      <td>...</td>\n",
       "      <td>0</td>\n",
       "      <td>1</td>\n",
       "      <td>0</td>\n",
       "      <td>0</td>\n",
       "      <td>0</td>\n",
       "      <td>0</td>\n",
       "      <td>0</td>\n",
       "      <td>0</td>\n",
       "      <td>1</td>\n",
       "      <td>0</td>\n",
       "    </tr>\n",
       "    <tr>\n",
       "      <th>3</th>\n",
       "      <td>0.0</td>\n",
       "      <td>2017-09-19 10:00:00</td>\n",
       "      <td>2384000.0</td>\n",
       "      <td>NaN</td>\n",
       "      <td>8.0</td>\n",
       "      <td>FLIPKART</td>\n",
       "      <td>2017-10-03</td>\n",
       "      <td>2384000.0</td>\n",
       "      <td>NaN</td>\n",
       "      <td>NaT</td>\n",
       "      <td>...</td>\n",
       "      <td>0</td>\n",
       "      <td>0</td>\n",
       "      <td>0</td>\n",
       "      <td>1</td>\n",
       "      <td>0</td>\n",
       "      <td>0</td>\n",
       "      <td>1</td>\n",
       "      <td>1</td>\n",
       "      <td>0</td>\n",
       "      <td>0</td>\n",
       "    </tr>\n",
       "    <tr>\n",
       "      <th>4</th>\n",
       "      <td>0.0</td>\n",
       "      <td>2017-08-08 12:00:00</td>\n",
       "      <td>2384000.0</td>\n",
       "      <td>NaN</td>\n",
       "      <td>0.0</td>\n",
       "      <td>FLIPKART</td>\n",
       "      <td>2017-10-03</td>\n",
       "      <td>2384000.0</td>\n",
       "      <td>NaN</td>\n",
       "      <td>NaT</td>\n",
       "      <td>...</td>\n",
       "      <td>0</td>\n",
       "      <td>0</td>\n",
       "      <td>1</td>\n",
       "      <td>0</td>\n",
       "      <td>0</td>\n",
       "      <td>0</td>\n",
       "      <td>1</td>\n",
       "      <td>1</td>\n",
       "      <td>0</td>\n",
       "      <td>0</td>\n",
       "    </tr>\n",
       "  </tbody>\n",
       "</table>\n",
       "<p>5 rows × 44 columns</p>\n",
       "</div>"
      ],
      "text/plain": [
       "   active_backlog branch_issue_deadline  btech_ctc  btech_home  cgpa  \\\n",
       "0             0.0   2017-09-22 10:00:00   700000.0         NaN   6.0   \n",
       "1             0.0   2017-09-22 10:00:00   845000.0         NaN   7.0   \n",
       "2             0.0   2017-09-22 10:00:00        NaN         NaN   0.0   \n",
       "3             0.0   2017-09-19 10:00:00  2384000.0         NaN   8.0   \n",
       "4             0.0   2017-08-08 12:00:00  2384000.0         NaN   0.0   \n",
       "\n",
       "  company_name  exam_date  idd_imd_ctc  idd_imd_home interview_date ...  civ  \\\n",
       "0    Honeywell        NaT          NaN           NaN            NaT ...    0   \n",
       "1     SCA Tech        NaT     845000.0           NaN            NaT ...    1   \n",
       "2  Evalueserve        NaT          NaN           NaN            NaT ...    0   \n",
       "3     FLIPKART 2017-10-03    2384000.0           NaN            NaT ...    0   \n",
       "4     FLIPKART 2017-10-03    2384000.0           NaN            NaT ...    0   \n",
       "\n",
       "   bme  cse  ece mst phe btech  idd mtech phd  \n",
       "0    0    0    1   0   0     1    0     1   0  \n",
       "1    0    1    1   1   0     1    1     1   0  \n",
       "2    1    0    0   0   0     0    0     1   0  \n",
       "3    0    0    1   0   0     1    1     0   0  \n",
       "4    0    1    0   0   0     1    1     0   0  \n",
       "\n",
       "[5 rows x 44 columns]"
      ]
     },
     "execution_count": 21,
     "metadata": {},
     "output_type": "execute_result"
    }
   ],
   "source": [
    "companies = get_data(data_mapper)\n",
    "clip_data(companies, clips)\n",
    "df = process_df(companies)\n",
    "df.head()"
   ]
  },
  {
   "cell_type": "code",
   "execution_count": 22,
   "metadata": {},
   "outputs": [
    {
     "data": {
      "text/html": [
       "<div>\n",
       "<style>\n",
       "    .dataframe thead tr:only-child th {\n",
       "        text-align: right;\n",
       "    }\n",
       "\n",
       "    .dataframe thead th {\n",
       "        text-align: left;\n",
       "    }\n",
       "\n",
       "    .dataframe tbody tr th {\n",
       "        vertical-align: top;\n",
       "    }\n",
       "</style>\n",
       "<table border=\"1\" class=\"dataframe\">\n",
       "  <thead>\n",
       "    <tr style=\"text-align: right;\">\n",
       "      <th></th>\n",
       "      <th>active_backlog</th>\n",
       "      <th>branch_issue_deadline</th>\n",
       "      <th>btech_ctc</th>\n",
       "      <th>btech_home</th>\n",
       "      <th>cgpa</th>\n",
       "      <th>company_name</th>\n",
       "      <th>exam_date</th>\n",
       "      <th>idd_imd_ctc</th>\n",
       "      <th>idd_imd_home</th>\n",
       "      <th>interview_date</th>\n",
       "      <th>...</th>\n",
       "      <th>civ</th>\n",
       "      <th>bme</th>\n",
       "      <th>cse</th>\n",
       "      <th>ece</th>\n",
       "      <th>mst</th>\n",
       "      <th>phe</th>\n",
       "      <th>btech</th>\n",
       "      <th>idd</th>\n",
       "      <th>mtech</th>\n",
       "      <th>phd</th>\n",
       "    </tr>\n",
       "  </thead>\n",
       "  <tbody>\n",
       "    <tr>\n",
       "      <th>0</th>\n",
       "      <td>0.0</td>\n",
       "      <td>2017-09-22 10:00:00</td>\n",
       "      <td>700000.0</td>\n",
       "      <td>NaN</td>\n",
       "      <td>6.0</td>\n",
       "      <td>Honeywell</td>\n",
       "      <td>NaT</td>\n",
       "      <td>NaN</td>\n",
       "      <td>NaN</td>\n",
       "      <td>NaT</td>\n",
       "      <td>...</td>\n",
       "      <td>0</td>\n",
       "      <td>0</td>\n",
       "      <td>0</td>\n",
       "      <td>1</td>\n",
       "      <td>0</td>\n",
       "      <td>0</td>\n",
       "      <td>1</td>\n",
       "      <td>0</td>\n",
       "      <td>1</td>\n",
       "      <td>0</td>\n",
       "    </tr>\n",
       "    <tr>\n",
       "      <th>1</th>\n",
       "      <td>0.0</td>\n",
       "      <td>2017-09-22 10:00:00</td>\n",
       "      <td>845000.0</td>\n",
       "      <td>NaN</td>\n",
       "      <td>7.0</td>\n",
       "      <td>SCA Tech</td>\n",
       "      <td>NaT</td>\n",
       "      <td>845000.0</td>\n",
       "      <td>NaN</td>\n",
       "      <td>NaT</td>\n",
       "      <td>...</td>\n",
       "      <td>1</td>\n",
       "      <td>0</td>\n",
       "      <td>1</td>\n",
       "      <td>1</td>\n",
       "      <td>1</td>\n",
       "      <td>0</td>\n",
       "      <td>1</td>\n",
       "      <td>1</td>\n",
       "      <td>1</td>\n",
       "      <td>0</td>\n",
       "    </tr>\n",
       "    <tr>\n",
       "      <th>2</th>\n",
       "      <td>0.0</td>\n",
       "      <td>2017-09-22 10:00:00</td>\n",
       "      <td>NaN</td>\n",
       "      <td>NaN</td>\n",
       "      <td>0.0</td>\n",
       "      <td>Evalueserve</td>\n",
       "      <td>NaT</td>\n",
       "      <td>NaN</td>\n",
       "      <td>NaN</td>\n",
       "      <td>NaT</td>\n",
       "      <td>...</td>\n",
       "      <td>0</td>\n",
       "      <td>1</td>\n",
       "      <td>0</td>\n",
       "      <td>0</td>\n",
       "      <td>0</td>\n",
       "      <td>0</td>\n",
       "      <td>0</td>\n",
       "      <td>0</td>\n",
       "      <td>1</td>\n",
       "      <td>0</td>\n",
       "    </tr>\n",
       "    <tr>\n",
       "      <th>3</th>\n",
       "      <td>0.0</td>\n",
       "      <td>2017-09-19 10:00:00</td>\n",
       "      <td>2384000.0</td>\n",
       "      <td>NaN</td>\n",
       "      <td>8.0</td>\n",
       "      <td>FLIPKART</td>\n",
       "      <td>2017-10-03</td>\n",
       "      <td>2384000.0</td>\n",
       "      <td>NaN</td>\n",
       "      <td>NaT</td>\n",
       "      <td>...</td>\n",
       "      <td>0</td>\n",
       "      <td>0</td>\n",
       "      <td>0</td>\n",
       "      <td>1</td>\n",
       "      <td>0</td>\n",
       "      <td>0</td>\n",
       "      <td>1</td>\n",
       "      <td>1</td>\n",
       "      <td>0</td>\n",
       "      <td>0</td>\n",
       "    </tr>\n",
       "    <tr>\n",
       "      <th>4</th>\n",
       "      <td>0.0</td>\n",
       "      <td>2017-08-08 12:00:00</td>\n",
       "      <td>2384000.0</td>\n",
       "      <td>NaN</td>\n",
       "      <td>0.0</td>\n",
       "      <td>FLIPKART</td>\n",
       "      <td>2017-10-03</td>\n",
       "      <td>2384000.0</td>\n",
       "      <td>NaN</td>\n",
       "      <td>NaT</td>\n",
       "      <td>...</td>\n",
       "      <td>0</td>\n",
       "      <td>0</td>\n",
       "      <td>1</td>\n",
       "      <td>0</td>\n",
       "      <td>0</td>\n",
       "      <td>0</td>\n",
       "      <td>1</td>\n",
       "      <td>1</td>\n",
       "      <td>0</td>\n",
       "      <td>0</td>\n",
       "    </tr>\n",
       "  </tbody>\n",
       "</table>\n",
       "<p>5 rows × 44 columns</p>\n",
       "</div>"
      ],
      "text/plain": [
       "   active_backlog branch_issue_deadline  btech_ctc  btech_home  cgpa  \\\n",
       "0             0.0   2017-09-22 10:00:00   700000.0         NaN   6.0   \n",
       "1             0.0   2017-09-22 10:00:00   845000.0         NaN   7.0   \n",
       "2             0.0   2017-09-22 10:00:00        NaN         NaN   0.0   \n",
       "3             0.0   2017-09-19 10:00:00  2384000.0         NaN   8.0   \n",
       "4             0.0   2017-08-08 12:00:00  2384000.0         NaN   0.0   \n",
       "\n",
       "  company_name  exam_date  idd_imd_ctc  idd_imd_home interview_date ...  civ  \\\n",
       "0    Honeywell        NaT          NaN           NaN            NaT ...    0   \n",
       "1     SCA Tech        NaT     845000.0           NaN            NaT ...    1   \n",
       "2  Evalueserve        NaT          NaN           NaN            NaT ...    0   \n",
       "3     FLIPKART 2017-10-03    2384000.0           NaN            NaT ...    0   \n",
       "4     FLIPKART 2017-10-03    2384000.0           NaN            NaT ...    0   \n",
       "\n",
       "   bme  cse  ece mst phe btech  idd mtech phd  \n",
       "0    0    0    1   0   0     1    0     1   0  \n",
       "1    0    1    1   1   0     1    1     1   0  \n",
       "2    1    0    0   0   0     0    0     1   0  \n",
       "3    0    0    1   0   0     1    1     0   0  \n",
       "4    0    1    0   0   0     1    1     0   0  \n",
       "\n",
       "[5 rows x 44 columns]"
      ]
     },
     "execution_count": 22,
     "metadata": {},
     "output_type": "execute_result"
    }
   ],
   "source": [
    "df.to_csv('companies.csv', index=False)\n",
    "pd.read_csv('companies.csv', parse_dates=['branch_issue_deadline', 'exam_date', 'interview_date', 'ppt_date', 'updated_at', 'willingness_deadline']).head()"
   ]
  }
 ],
 "metadata": {
  "kernelspec": {
   "display_name": "Python 3",
   "language": "python",
   "name": "python3"
  },
  "language_info": {
   "codemirror_mode": {
    "name": "ipython",
    "version": 3
   },
   "file_extension": ".py",
   "mimetype": "text/x-python",
   "name": "python",
   "nbconvert_exporter": "python",
   "pygments_lexer": "ipython3",
   "version": "3.6.2"
  }
 },
 "nbformat": 4,
 "nbformat_minor": 2
}
